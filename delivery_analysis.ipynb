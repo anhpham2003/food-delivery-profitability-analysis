{
 "cells": [
  {
   "cell_type": "code",
   "execution_count": 29,
   "id": "791037be",
   "metadata": {},
   "outputs": [],
   "source": [
    "import pandas as pd\n",
    "import matplotlib.pyplot as plt\n",
    "from datetime import datetime"
   ]
  },
  {
   "cell_type": "markdown",
   "metadata": {},
   "source": [
    "# Load Data"
   ]
  },
  {
   "cell_type": "code",
   "execution_count": 15,
   "id": "d88639d1",
   "metadata": {},
   "outputs": [
    {
     "data": {
      "text/html": [
       "<div>\n",
       "<style scoped>\n",
       "    .dataframe tbody tr th:only-of-type {\n",
       "        vertical-align: middle;\n",
       "    }\n",
       "\n",
       "    .dataframe tbody tr th {\n",
       "        vertical-align: top;\n",
       "    }\n",
       "\n",
       "    .dataframe thead th {\n",
       "        text-align: right;\n",
       "    }\n",
       "</style>\n",
       "<table border=\"1\" class=\"dataframe\">\n",
       "  <thead>\n",
       "    <tr style=\"text-align: right;\">\n",
       "      <th></th>\n",
       "      <th>Order ID</th>\n",
       "      <th>Customer ID</th>\n",
       "      <th>Restaurant ID</th>\n",
       "      <th>Order Date and Time</th>\n",
       "      <th>Delivery Date and Time</th>\n",
       "      <th>Order Value</th>\n",
       "      <th>Delivery Fee</th>\n",
       "      <th>Payment Method</th>\n",
       "      <th>Discounts and Offers</th>\n",
       "      <th>Commission Fee</th>\n",
       "      <th>Payment Processing Fee</th>\n",
       "      <th>Refunds/Chargebacks</th>\n",
       "    </tr>\n",
       "  </thead>\n",
       "  <tbody>\n",
       "    <tr>\n",
       "      <th>0</th>\n",
       "      <td>1</td>\n",
       "      <td>C8270</td>\n",
       "      <td>R2924</td>\n",
       "      <td>2024-02-01 01:11:52</td>\n",
       "      <td>2024-02-01 02:39:52</td>\n",
       "      <td>1914</td>\n",
       "      <td>0</td>\n",
       "      <td>Credit Card</td>\n",
       "      <td>5% on App</td>\n",
       "      <td>150</td>\n",
       "      <td>47</td>\n",
       "      <td>0</td>\n",
       "    </tr>\n",
       "    <tr>\n",
       "      <th>1</th>\n",
       "      <td>2</td>\n",
       "      <td>C1860</td>\n",
       "      <td>R2054</td>\n",
       "      <td>2024-02-02 22:11:04</td>\n",
       "      <td>2024-02-02 22:46:04</td>\n",
       "      <td>986</td>\n",
       "      <td>40</td>\n",
       "      <td>Digital Wallet</td>\n",
       "      <td>10%</td>\n",
       "      <td>198</td>\n",
       "      <td>23</td>\n",
       "      <td>0</td>\n",
       "    </tr>\n",
       "    <tr>\n",
       "      <th>2</th>\n",
       "      <td>3</td>\n",
       "      <td>C6390</td>\n",
       "      <td>R2870</td>\n",
       "      <td>2024-01-31 05:54:35</td>\n",
       "      <td>2024-01-31 06:52:35</td>\n",
       "      <td>937</td>\n",
       "      <td>30</td>\n",
       "      <td>Cash on Delivery</td>\n",
       "      <td>15% New User</td>\n",
       "      <td>195</td>\n",
       "      <td>45</td>\n",
       "      <td>0</td>\n",
       "    </tr>\n",
       "    <tr>\n",
       "      <th>3</th>\n",
       "      <td>4</td>\n",
       "      <td>C6191</td>\n",
       "      <td>R2642</td>\n",
       "      <td>2024-01-16 22:52:49</td>\n",
       "      <td>2024-01-16 23:38:49</td>\n",
       "      <td>1463</td>\n",
       "      <td>50</td>\n",
       "      <td>Cash on Delivery</td>\n",
       "      <td>NaN</td>\n",
       "      <td>146</td>\n",
       "      <td>27</td>\n",
       "      <td>0</td>\n",
       "    </tr>\n",
       "    <tr>\n",
       "      <th>4</th>\n",
       "      <td>5</td>\n",
       "      <td>C6734</td>\n",
       "      <td>R2799</td>\n",
       "      <td>2024-01-29 01:19:30</td>\n",
       "      <td>2024-01-29 02:48:30</td>\n",
       "      <td>1992</td>\n",
       "      <td>30</td>\n",
       "      <td>Cash on Delivery</td>\n",
       "      <td>50 off Promo</td>\n",
       "      <td>130</td>\n",
       "      <td>50</td>\n",
       "      <td>0</td>\n",
       "    </tr>\n",
       "  </tbody>\n",
       "</table>\n",
       "</div>"
      ],
      "text/plain": [
       "   Order ID Customer ID Restaurant ID  Order Date and Time  \\\n",
       "0         1       C8270         R2924  2024-02-01 01:11:52   \n",
       "1         2       C1860         R2054  2024-02-02 22:11:04   \n",
       "2         3       C6390         R2870  2024-01-31 05:54:35   \n",
       "3         4       C6191         R2642  2024-01-16 22:52:49   \n",
       "4         5       C6734         R2799  2024-01-29 01:19:30   \n",
       "\n",
       "  Delivery Date and Time  Order Value  Delivery Fee    Payment Method  \\\n",
       "0    2024-02-01 02:39:52         1914             0       Credit Card   \n",
       "1    2024-02-02 22:46:04          986            40    Digital Wallet   \n",
       "2    2024-01-31 06:52:35          937            30  Cash on Delivery   \n",
       "3    2024-01-16 23:38:49         1463            50  Cash on Delivery   \n",
       "4    2024-01-29 02:48:30         1992            30  Cash on Delivery   \n",
       "\n",
       "  Discounts and Offers  Commission Fee  Payment Processing Fee  \\\n",
       "0            5% on App             150                      47   \n",
       "1                  10%             198                      23   \n",
       "2         15% New User             195                      45   \n",
       "3                  NaN             146                      27   \n",
       "4         50 off Promo             130                      50   \n",
       "\n",
       "   Refunds/Chargebacks  \n",
       "0                    0  \n",
       "1                    0  \n",
       "2                    0  \n",
       "3                    0  \n",
       "4                    0  "
      ]
     },
     "execution_count": 15,
     "metadata": {},
     "output_type": "execute_result"
    }
   ],
   "source": [
    "food_orders = pd.read_csv('food_orders_new_delhi.csv')\n",
    "food_orders.head()"
   ]
  },
  {
   "cell_type": "code",
   "execution_count": 16,
   "id": "31d47442",
   "metadata": {},
   "outputs": [
    {
     "name": "stdout",
     "output_type": "stream",
     "text": [
      "<class 'pandas.core.frame.DataFrame'>\n",
      "RangeIndex: 1000 entries, 0 to 999\n",
      "Data columns (total 12 columns):\n",
      " #   Column                  Non-Null Count  Dtype \n",
      "---  ------                  --------------  ----- \n",
      " 0   Order ID                1000 non-null   int64 \n",
      " 1   Customer ID             1000 non-null   object\n",
      " 2   Restaurant ID           1000 non-null   object\n",
      " 3   Order Date and Time     1000 non-null   object\n",
      " 4   Delivery Date and Time  1000 non-null   object\n",
      " 5   Order Value             1000 non-null   int64 \n",
      " 6   Delivery Fee            1000 non-null   int64 \n",
      " 7   Payment Method          1000 non-null   object\n",
      " 8   Discounts and Offers    815 non-null    object\n",
      " 9   Commission Fee          1000 non-null   int64 \n",
      " 10  Payment Processing Fee  1000 non-null   int64 \n",
      " 11  Refunds/Chargebacks     1000 non-null   int64 \n",
      "dtypes: int64(6), object(6)\n",
      "memory usage: 93.9+ KB\n"
     ]
    }
   ],
   "source": [
    "food_orders.info()"
   ]
  },
  {
   "cell_type": "markdown",
   "id": "32c602f3",
   "metadata": {},
   "source": [
    "- No missing columns in any column\n",
    "- Data cleaning:\n",
    "    + Convert \"Order Date and Time\" and \"Delivery Data and Time\" to datetime format\n",
    "    + Convert \"Discounts and Offers\" to numeric value (calculate discount amounts)"
   ]
  },
  {
   "cell_type": "markdown",
   "metadata": {},
   "source": [
    "# Clean Data"
   ]
  },
  {
   "cell_type": "code",
   "execution_count": 17,
   "id": "8bf7333c",
   "metadata": {},
   "outputs": [],
   "source": [
    "# Convert date and time columns to datetime format\n",
    "food_orders['Order Date and Time'] = pd.to_datetime(food_orders['Order Date and Time'])\n",
    "food_orders['Delivery Date and Time'] = pd.to_datetime(food_orders['Delivery Date and Time'])"
   ]
  },
  {
   "cell_type": "code",
   "execution_count": 18,
   "id": "48d33a04",
   "metadata": {},
   "outputs": [],
   "source": [
    "# Helper function to extract numeric values from 'Discounts and Offers'\n",
    "# 2 types of discounts: exact amount off from total or percentage off\n",
    "def extract_discount(input):\n",
    "    if not isinstance(input, str):\n",
    "        return ('none', 0.0)\n",
    "    if 'off' in input:\n",
    "        discount = float(input.split(' ')[0])\n",
    "        return ('fixed', discount)\n",
    "    elif '%' in input:\n",
    "        discount = float(input.split('%')[0])\n",
    "        return ('percentage', discount)\n",
    "    return ('none', 0.0)\n",
    "\n",
    "# Extract discount type and value\n",
    "food_orders[['Discount Type', 'Discount Value']] = food_orders['Discounts and Offers'].apply(\n",
    "    lambda x: pd.Series(extract_discount(x))\n",
    ")\n"
   ]
  },
  {
   "cell_type": "code",
   "execution_count": 24,
   "metadata": {},
   "outputs": [
    {
     "name": "stdout",
     "output_type": "stream",
     "text": [
      "<class 'pandas.core.frame.DataFrame'>\n",
      "RangeIndex: 1000 entries, 0 to 999\n",
      "Data columns (total 15 columns):\n",
      " #   Column                  Non-Null Count  Dtype         \n",
      "---  ------                  --------------  -----         \n",
      " 0   Order ID                1000 non-null   int64         \n",
      " 1   Customer ID             1000 non-null   object        \n",
      " 2   Restaurant ID           1000 non-null   object        \n",
      " 3   Order Date and Time     1000 non-null   datetime64[ns]\n",
      " 4   Delivery Date and Time  1000 non-null   datetime64[ns]\n",
      " 5   Order Value             1000 non-null   int64         \n",
      " 6   Delivery Fee            1000 non-null   int64         \n",
      " 7   Payment Method          1000 non-null   object        \n",
      " 8   Discounts and Offers    815 non-null    object        \n",
      " 9   Commission Fee          1000 non-null   int64         \n",
      " 10  Payment Processing Fee  1000 non-null   int64         \n",
      " 11  Refunds/Chargebacks     1000 non-null   int64         \n",
      " 12  Discount Type           1000 non-null   object        \n",
      " 13  Discount Value          1000 non-null   float64       \n",
      " 14  Discount Amount         1000 non-null   float64       \n",
      "dtypes: datetime64[ns](2), float64(2), int64(6), object(5)\n",
      "memory usage: 117.3+ KB\n"
     ]
    }
   ],
   "source": [
    "# Calculate discount amount\n",
    "def calculate_discount_amount(row):\n",
    "    if row['Discount Type'] == 'percentage':\n",
    "        return row['Order Value'] * row['Discount Value'] / 100\n",
    "    elif row['Discount Type'] == 'fixed':\n",
    "        return row['Discount Value']\n",
    "    return 0.0\n",
    "food_orders['Discount Amount'] = food_orders.apply(calculate_discount_amount, axis = 1)\n",
    "food_orders.info()"
   ]
  },
  {
   "cell_type": "markdown",
   "metadata": {},
   "source": [
    "# Cost and Profitability Analysis"
   ]
  },
  {
   "cell_type": "code",
   "execution_count": null,
   "metadata": {},
   "outputs": [],
   "source": [
    "#  Calculate total costs, revenue and profit for the platform\n",
    "food_orders['Total Costs'] = (food_orders['Payment Processing Fee'] \n",
    "                              + food_orders['Discount Amount']\n",
    "                              + food_orders['Refunds/Chargebacks'])\n",
    "food_orders['Revenue'] = food_orders['Commission Fee'] + food_orders['Delivery Fee']\n",
    "food_orders['Profit'] = food_orders['Revenue'] - food_orders['Total Costs']"
   ]
  },
  {
   "cell_type": "code",
   "execution_count": 28,
   "metadata": {},
   "outputs": [
    {
     "name": "stdout",
     "output_type": "stream",
     "text": [
      "{'Total Orders': 1000, 'Total Revenue': 155610, 'Total Costs': 132421.85, 'Total Profit': 23188.15}\n"
     ]
    }
   ],
   "source": [
    "# Aggregate data to get overall metrics \n",
    "total_orders = food_orders.shape[0]\n",
    "total_revenue = food_orders['Revenue'].sum()\n",
    "total_costs = food_orders['Total Costs'].sum()\n",
    "total_profit = food_orders['Profit'].sum()\n",
    "\n",
    "overall_metrics = {\n",
    "    \"Total Orders\": total_orders,\n",
    "    \"Total Revenue\": total_revenue,\n",
    "    \"Total Costs\": total_costs,\n",
    "    \"Total Profit\": total_profit\n",
    "}\n",
    "print(overall_metrics)"
   ]
  },
  {
   "cell_type": "markdown",
   "metadata": {},
   "source": [
    "# Visualization"
   ]
  },
  {
   "cell_type": "code",
   "execution_count": 30,
   "metadata": {},
   "outputs": [
    {
     "data": {
      "image/png": "[encoded data removed]",
      "text/plain": [
       "<Figure size 1000x600 with 1 Axes>"
      ]
     },
     "metadata": {},
     "output_type": "display_data"
    }
   ],
   "source": [
    "# Profit Distribution Per Order\n",
    "\n",
    "plt.figure(figsize=(10, 6))\n",
    "plt.hist(food_orders['Profit'], bins=50, color='skyblue', edgecolor='black')\n",
    "plt.title('Profit Distribution per Order in Food Delivery')\n",
    "plt.xlabel('Profit')\n",
    "plt.ylabel('Number of Orders')\n",
    "plt.axvline(food_orders['Profit'].mean(), color='red', linestyle='dashed', linewidth=1)\n",
    "plt.show()"
   ]
  }
 ],
 "metadata": {
  "kernelspec": {
   "display_name": "base",
   "language": "python",
   "name": "python3"
  },
  "language_info": {
   "codemirror_mode": {
    "name": "ipython",
    "version": 3
   },
   "file_extension": ".py",
   "mimetype": "text/x-python",
   "name": "python",
   "nbconvert_exporter": "python",
   "pygments_lexer": "ipython3",
   "version": "3.12.2"
  }
 },
 "nbformat": 4,
 "nbformat_minor": 5
}
